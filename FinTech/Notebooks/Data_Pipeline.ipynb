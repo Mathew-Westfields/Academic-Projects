{
 "cells": [
  {
   "cell_type": "markdown",
   "metadata": {},
   "source": [
    "# Data Pipeline:\n",
    "The Data-Pipeline notebook is used to construct a dictionary of OHLC-Dataframes (open,high,low,close).\n",
    "The Data is supplied as a json file via a REST-API (Alpha Vantage).\n",
    "This dictionary of dataframes will be pickled for later use.\n"
   ]
  },
  {
   "cell_type": "code",
   "execution_count": 1,
   "metadata": {
    "ExecuteTime": {
     "end_time": "2020-09-28T15:49:14.237210Z",
     "start_time": "2020-09-28T15:49:14.225243Z"
    }
   },
   "outputs": [],
   "source": [
    "finnhub_api_key = \"bsuq2c748v6sd8gig46g\""
   ]
  },
  {
   "cell_type": "code",
   "execution_count": null,
   "metadata": {},
   "outputs": [],
   "source": []
  },
  {
   "cell_type": "code",
   "execution_count": 3,
   "metadata": {
    "ExecuteTime": {
     "end_time": "2020-10-04T14:59:56.883868Z",
     "start_time": "2020-10-04T14:59:56.866891Z"
    }
   },
   "outputs": [],
   "source": [
    "alpha_vantage_api_key = \"PO5LIXWQREXYQI7I\""
   ]
  },
  {
   "cell_type": "code",
   "execution_count": 4,
   "metadata": {
    "ExecuteTime": {
     "end_time": "2020-10-04T15:00:06.385079Z",
     "start_time": "2020-10-04T14:59:57.139769Z"
    }
   },
   "outputs": [],
   "source": [
    "import requests\n",
    "import json\n",
    "import pickle\n",
    "import time \n",
    "import pandas as pd\n",
    "import numpy as np\n",
    "import datetime as dt\n",
    "\n"
   ]
  },
  {
   "cell_type": "code",
   "execution_count": null,
   "metadata": {
    "ExecuteTime": {
     "end_time": "2020-08-21T22:38:09.504515Z",
     "start_time": "2020-08-21T22:38:09.499520Z"
    }
   },
   "outputs": [],
   "source": []
  },
  {
   "cell_type": "code",
   "execution_count": 5,
   "metadata": {
    "ExecuteTime": {
     "end_time": "2020-10-04T15:00:06.866182Z",
     "start_time": "2020-10-04T15:00:06.394050Z"
    }
   },
   "outputs": [],
   "source": [
    "#symbols_df = pd.read_csv(\"companylist.csv\")"
   ]
  },
  {
   "cell_type": "code",
   "execution_count": 6,
   "metadata": {
    "ExecuteTime": {
     "end_time": "2020-10-04T15:00:06.973669Z",
     "start_time": "2020-10-04T15:00:06.872191Z"
    }
   },
   "outputs": [
    {
     "data": {
      "text/html": [
       "<div>\n",
       "<style scoped>\n",
       "    .dataframe tbody tr th:only-of-type {\n",
       "        vertical-align: middle;\n",
       "    }\n",
       "\n",
       "    .dataframe tbody tr th {\n",
       "        vertical-align: top;\n",
       "    }\n",
       "\n",
       "    .dataframe thead th {\n",
       "        text-align: right;\n",
       "    }\n",
       "</style>\n",
       "<table border=\"1\" class=\"dataframe\">\n",
       "  <thead>\n",
       "    <tr style=\"text-align: right;\">\n",
       "      <th></th>\n",
       "      <th>Symbol</th>\n",
       "      <th>Name</th>\n",
       "      <th>LastSale</th>\n",
       "      <th>MarketCap</th>\n",
       "      <th>IPOyear</th>\n",
       "      <th>Sector</th>\n",
       "      <th>industry</th>\n",
       "      <th>Summary Quote</th>\n",
       "      <th>Unnamed: 8</th>\n",
       "    </tr>\n",
       "  </thead>\n",
       "  <tbody>\n",
       "    <tr>\n",
       "      <th>0</th>\n",
       "      <td>TXG</td>\n",
       "      <td>10x Genomics, Inc.</td>\n",
       "      <td>108.7800</td>\n",
       "      <td>$10.92B</td>\n",
       "      <td>2019.0</td>\n",
       "      <td>Capital Goods</td>\n",
       "      <td>Biotechnology: Laboratory Analytical Instruments</td>\n",
       "      <td>https://old.nasdaq.com/symbol/txg</td>\n",
       "      <td>NaN</td>\n",
       "    </tr>\n",
       "    <tr>\n",
       "      <th>1</th>\n",
       "      <td>YI</td>\n",
       "      <td>111, Inc.</td>\n",
       "      <td>6.7500</td>\n",
       "      <td>$555.93M</td>\n",
       "      <td>2018.0</td>\n",
       "      <td>Health Care</td>\n",
       "      <td>Medical/Nursing Services</td>\n",
       "      <td>https://old.nasdaq.com/symbol/yi</td>\n",
       "      <td>NaN</td>\n",
       "    </tr>\n",
       "    <tr>\n",
       "      <th>2</th>\n",
       "      <td>PIH</td>\n",
       "      <td>1347 Property Insurance Holdings, Inc.</td>\n",
       "      <td>4.3285</td>\n",
       "      <td>$26.27M</td>\n",
       "      <td>2014.0</td>\n",
       "      <td>Finance</td>\n",
       "      <td>Property-Casualty Insurers</td>\n",
       "      <td>https://old.nasdaq.com/symbol/pih</td>\n",
       "      <td>NaN</td>\n",
       "    </tr>\n",
       "    <tr>\n",
       "      <th>3</th>\n",
       "      <td>PIHPP</td>\n",
       "      <td>1347 Property Insurance Holdings, Inc.</td>\n",
       "      <td>25.1000</td>\n",
       "      <td>NaN</td>\n",
       "      <td>NaN</td>\n",
       "      <td>Finance</td>\n",
       "      <td>Property-Casualty Insurers</td>\n",
       "      <td>https://old.nasdaq.com/symbol/pihpp</td>\n",
       "      <td>NaN</td>\n",
       "    </tr>\n",
       "    <tr>\n",
       "      <th>4</th>\n",
       "      <td>TURN</td>\n",
       "      <td>180 Degree Capital Corp.</td>\n",
       "      <td>1.9600</td>\n",
       "      <td>$61M</td>\n",
       "      <td>NaN</td>\n",
       "      <td>Finance</td>\n",
       "      <td>Finance/Investors Services</td>\n",
       "      <td>https://old.nasdaq.com/symbol/turn</td>\n",
       "      <td>NaN</td>\n",
       "    </tr>\n",
       "  </tbody>\n",
       "</table>\n",
       "</div>"
      ],
      "text/plain": [
       "  Symbol                                    Name  LastSale MarketCap  IPOyear  \\\n",
       "0    TXG                      10x Genomics, Inc.  108.7800   $10.92B   2019.0   \n",
       "1     YI                               111, Inc.    6.7500  $555.93M   2018.0   \n",
       "2    PIH  1347 Property Insurance Holdings, Inc.    4.3285   $26.27M   2014.0   \n",
       "3  PIHPP  1347 Property Insurance Holdings, Inc.   25.1000       NaN      NaN   \n",
       "4   TURN                180 Degree Capital Corp.    1.9600      $61M      NaN   \n",
       "\n",
       "          Sector                                          industry  \\\n",
       "0  Capital Goods  Biotechnology: Laboratory Analytical Instruments   \n",
       "1    Health Care                          Medical/Nursing Services   \n",
       "2        Finance                        Property-Casualty Insurers   \n",
       "3        Finance                        Property-Casualty Insurers   \n",
       "4        Finance                        Finance/Investors Services   \n",
       "\n",
       "                         Summary Quote  Unnamed: 8  \n",
       "0    https://old.nasdaq.com/symbol/txg         NaN  \n",
       "1     https://old.nasdaq.com/symbol/yi         NaN  \n",
       "2    https://old.nasdaq.com/symbol/pih         NaN  \n",
       "3  https://old.nasdaq.com/symbol/pihpp         NaN  \n",
       "4   https://old.nasdaq.com/symbol/turn         NaN  "
      ]
     },
     "execution_count": 6,
     "metadata": {},
     "output_type": "execute_result"
    }
   ],
   "source": [
    "#symbols_df.head()"
   ]
  },
  {
   "cell_type": "markdown",
   "metadata": {},
   "source": [
    "## The Symbol List:\n",
    "The symbol list is used to pick our \"Universe\" of Stocks we wish to analyze.\n",
    "These symbols will be used to get the data via the REST-API.\n",
    "Here I picked:\n",
    "- Apple\n",
    "- Tesla\n",
    "- Microsoft\n",
    "- Google\n",
    "- Amazon\n",
    "- Wallmart \n",
    "- HomeDepot \n",
    "- J.P. Morgan Chase\n",
    "- Verizon\n",
    "- EXON Mobile\n",
    "- American Airlines."
   ]
  },
  {
   "cell_type": "code",
   "execution_count": 55,
   "metadata": {
    "ExecuteTime": {
     "end_time": "2020-09-29T00:05:33.874326Z",
     "start_time": "2020-09-29T00:05:33.864353Z"
    }
   },
   "outputs": [],
   "source": [
    "symbol_list = [\"AAPL\",\"TSLA\",\"MSFT\",\"GOOGL\",\"AMZN\",\"WMT\",\"HD\",\"JPM\",\"VZ\",\"XOM\",\"AAL\"]\n",
    "#symbol_list =[\"ADDDF\",\"BAYZF\",\"DB\",\"TSLA\",\"VLKAF\"]"
   ]
  },
  {
   "cell_type": "markdown",
   "metadata": {
    "ExecuteTime": {
     "end_time": "2020-09-28T16:06:02.705584Z",
     "start_time": "2020-09-28T16:06:01.451799Z"
    }
   },
   "source": [
    "It's important to note here that the data has daily-resolution and since **outputsize = compact** we only get 100 rows of data.\n",
    "If we want a full history we need to change this parameter to **outputsize = full**."
   ]
  },
  {
   "cell_type": "code",
   "execution_count": 7,
   "metadata": {
    "ExecuteTime": {
     "end_time": "2020-10-04T15:06:40.355595Z",
     "start_time": "2020-10-04T15:06:40.342632Z"
    }
   },
   "outputs": [],
   "source": [
    "def query_timeseries(ticker):\n",
    "    alpha_vantage_api_key = \"PO5LIXWQREXYQI7I\"\n",
    "    key = alpha_vantage_api_key\n",
    "    url = 'https://www.alphavantage.co/query?function=TIME_SERIES_DAILY_ADJUSTED&symbol={}&outputsize=compact&apikey={}'.format(ticker,alpha_vantage_api_key)\n",
    "    response = requests.get(url)\n",
    "    res = response.json()\n",
    "    return res\n"
   ]
  },
  {
   "cell_type": "code",
   "execution_count": 8,
   "metadata": {
    "ExecuteTime": {
     "end_time": "2020-10-04T15:45:13.725737Z",
     "start_time": "2020-10-04T15:45:13.719709Z"
    }
   },
   "outputs": [],
   "source": [
    "def generate_price_dfs(symbols_list):\n",
    "    out = {}\n",
    "    for symbol in symbols_list:       \n",
    "        res = query_timeseries(symbol) #get the json output from REST-API\n",
    "        time.sleep(10) #nessesary as the free version of the api has a call/minute limit \n",
    "        ts_data = res['Time Series (Daily)']\n",
    "        ts_df = pd.DataFrame.from_dict(ts_data).transpose()\n",
    "        ts_df = ts_df.apply(pd.to_numeric) #convert strings to numeric data types\n",
    "        out.update({symbol:ts_df})\n",
    "    return out"
   ]
  },
  {
   "cell_type": "code",
   "execution_count": 58,
   "metadata": {
    "ExecuteTime": {
     "end_time": "2020-09-29T00:07:37.338183Z",
     "start_time": "2020-09-29T00:05:34.681787Z"
    }
   },
   "outputs": [],
   "source": [
    "adj_price_dict = generate_price_dfs(symbol_list)"
   ]
  },
  {
   "cell_type": "code",
   "execution_count": 59,
   "metadata": {
    "ExecuteTime": {
     "end_time": "2020-09-29T00:07:37.385058Z",
     "start_time": "2020-09-29T00:07:37.341177Z"
    }
   },
   "outputs": [],
   "source": [
    "def index_mapper(index):\n",
    "    trf_index = []\n",
    "    for date in index:\n",
    "        yyyy_mm_dd = date.split(\"-\") #split the string in the index into year,month,date strings\n",
    "        yyyy = int(yyyy_mm_dd[0]) \n",
    "        mm = int(yyyy_mm_dd[1])\n",
    "        dd = int(yyyy_mm_dd[2])\n",
    "        date =  dt.datetime(yyyy,mm,dd) # convert the string into a datetime object\n",
    "        trf_index.append(date)\n",
    "    return pd.Index(trf_index)\n",
    "    \n",
    "        \n",
    "def change_index_to_datetime(adj_price_dict):\n",
    "    for key in adj_price_dict:\n",
    "        #loop over every DataFrame in the price dict and convert it's index to datetime\n",
    "        df = adj_price_dict[key]\n",
    "        df.set_index(index_mapper(df.index), inplace= True)\n",
    "    return adj_price_dict\n",
    "\n",
    "adj_price_dict = change_index_to_datetime(adj_price_dict)"
   ]
  },
  {
   "cell_type": "code",
   "execution_count": null,
   "metadata": {
    "ExecuteTime": {
     "end_time": "2020-09-28T16:18:50.112771Z",
     "start_time": "2020-09-28T16:18:50.096814Z"
    }
   },
   "outputs": [],
   "source": []
  },
  {
   "cell_type": "code",
   "execution_count": 60,
   "metadata": {
    "ExecuteTime": {
     "end_time": "2020-09-29T00:07:37.496296Z",
     "start_time": "2020-09-29T00:07:37.390043Z"
    }
   },
   "outputs": [],
   "source": [
    "def pickle_adj_price_data(price_dict):\n",
    "    pickle.dump( price_dict, open( \"adj_price_dict.p\", \"wb\" ))\n",
    "    #pickle the price dictionary\n"
   ]
  },
  {
   "cell_type": "code",
   "execution_count": 61,
   "metadata": {
    "ExecuteTime": {
     "end_time": "2020-09-29T00:07:37.607078Z",
     "start_time": "2020-09-29T00:07:37.500287Z"
    }
   },
   "outputs": [],
   "source": [
    "pickle_adj_price_data(adj_price_dict)"
   ]
  },
  {
   "cell_type": "code",
   "execution_count": null,
   "metadata": {},
   "outputs": [],
   "source": []
  },
  {
   "cell_type": "code",
   "execution_count": null,
   "metadata": {},
   "outputs": [],
   "source": []
  },
  {
   "cell_type": "code",
   "execution_count": null,
   "metadata": {},
   "outputs": [],
   "source": []
  },
  {
   "cell_type": "code",
   "execution_count": null,
   "metadata": {},
   "outputs": [],
   "source": []
  },
  {
   "cell_type": "code",
   "execution_count": null,
   "metadata": {},
   "outputs": [],
   "source": []
  }
 ],
 "metadata": {
  "kernelspec": {
   "display_name": "Python 3",
   "language": "python",
   "name": "python3"
  },
  "language_info": {
   "codemirror_mode": {
    "name": "ipython",
    "version": 3
   },
   "file_extension": ".py",
   "mimetype": "text/x-python",
   "name": "python",
   "nbconvert_exporter": "python",
   "pygments_lexer": "ipython3",
   "version": "3.6.5"
  }
 },
 "nbformat": 4,
 "nbformat_minor": 2
}
