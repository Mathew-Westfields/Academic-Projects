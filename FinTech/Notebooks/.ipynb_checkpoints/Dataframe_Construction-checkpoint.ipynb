{
 "cells": [
  {
   "cell_type": "code",
   "execution_count": 1,
   "metadata": {
    "ExecuteTime": {
     "end_time": "2020-10-22T22:46:52.472563Z",
     "start_time": "2020-10-22T22:46:51.201904Z"
    }
   },
   "outputs": [],
   "source": [
    "import pickle\n",
    "import datetime as dt\n",
    "import pandas as pd\n",
    "import mplfinance as mpf\n",
    "import numpy as np\n",
    "import seaborn as sns\n",
    "import copy\n"
   ]
  },
  {
   "cell_type": "code",
   "execution_count": null,
   "metadata": {
    "ExecuteTime": {
     "end_time": "2020-10-08T17:45:54.024465Z",
     "start_time": "2020-10-08T17:45:54.013495Z"
    }
   },
   "outputs": [],
   "source": []
  },
  {
   "cell_type": "markdown",
   "metadata": {},
   "source": [
    "### Load in the Price Dictonary"
   ]
  },
  {
   "cell_type": "code",
   "execution_count": 2,
   "metadata": {
    "ExecuteTime": {
     "end_time": "2020-10-22T22:46:52.488521Z",
     "start_time": "2020-10-22T22:46:52.478546Z"
    }
   },
   "outputs": [],
   "source": [
    "def load_adj_price_dict():\n",
    "    adj_price_dict = pickle.load( open( \"adj_price_dict.p\", \"rb\" ) ) #load the pickled price dictionary\n",
    "    return adj_price_dict"
   ]
  },
  {
   "cell_type": "code",
   "execution_count": 3,
   "metadata": {
    "ExecuteTime": {
     "end_time": "2020-10-22T22:46:52.677165Z",
     "start_time": "2020-10-22T22:46:52.496499Z"
    }
   },
   "outputs": [],
   "source": [
    "price_dict = load_adj_price_dict()\n"
   ]
  },
  {
   "cell_type": "code",
   "execution_count": 4,
   "metadata": {
    "ExecuteTime": {
     "end_time": "2020-10-22T22:46:52.819792Z",
     "start_time": "2020-10-22T22:46:52.681154Z"
    }
   },
   "outputs": [],
   "source": [
    "symbol_list = list(price_dict.keys())\n",
    "#symbol_list = [\"ADDDF\",\"BAYZF\",\"DB\",\"TSLA\",\"VLKAF\"]"
   ]
  },
  {
   "cell_type": "code",
   "execution_count": 5,
   "metadata": {
    "ExecuteTime": {
     "end_time": "2020-10-22T22:46:52.962358Z",
     "start_time": "2020-10-22T22:46:52.823782Z"
    }
   },
   "outputs": [],
   "source": [
    "def get_ohlc_data(price_dict,key): \n",
    "    # constructs a OHLC-DataFrame from the symbol\n",
    "    df = copy.deepcopy(price_dict[key]) # construct deepcopy as we wanna manipulate a copy without altering the original \n",
    "    df.index.name = 'Date'\n",
    "    trf_dict = {\"1. open\":\"Open\", \n",
    "                \"2. high\":\"High\",\n",
    "                \"3. low\":\"Low\",\n",
    "                \"4. close\":\"Close\",\n",
    "                \"6. volume\":\"Volume\"}\n",
    "    df.rename(columns = trf_dict,inplace = True)\n",
    "    df = df[[\"Open\",\"High\",\"Low\",\"Close\",\"Volume\"]]\n",
    "    return df"
   ]
  },
  {
   "cell_type": "markdown",
   "metadata": {},
   "source": [
    "### Construction of the Adjusted Close Dataframe\n",
    "To compare prices (and later on return) of different stocks we limit ourself to the adjusted closing prices of each day.\n",
    "We chose the adjusted closing price as this already takes into account stock splits, which other wise could throw our analysis off.\n"
   ]
  },
  {
   "cell_type": "code",
   "execution_count": 6,
   "metadata": {
    "ExecuteTime": {
     "end_time": "2020-10-22T22:46:53.136026Z",
     "start_time": "2020-10-22T22:46:52.965349Z"
    }
   },
   "outputs": [],
   "source": [
    "def get_adj_close_df(adj_price_dict):\n",
    "    adj_close_df = pd.DataFrame()\n",
    "    for key in adj_price_dict.keys(): # iterate through each key\n",
    "        adj_price_dict[key].rename(columns={\"5. adjusted close\":key+\"_adjusted_close\"},inplace=True)\n",
    "        adj_close_df = pd.concat([adj_close_df, adj_price_dict[key][key+\"_adjusted_close\"]], axis=1) \n",
    "        #add the different columns into one dataframe\n",
    "    \n",
    "    adj_close_df = adj_close_df.apply(pd.to_numeric)\n",
    "    return adj_close_df\n"
   ]
  },
  {
   "cell_type": "code",
   "execution_count": 7,
   "metadata": {
    "ExecuteTime": {
     "end_time": "2020-10-22T22:46:53.343644Z",
     "start_time": "2020-10-22T22:46:53.139020Z"
    }
   },
   "outputs": [],
   "source": [
    "price_df = get_adj_close_df(price_dict)"
   ]
  },
  {
   "cell_type": "markdown",
   "metadata": {},
   "source": [
    "### Calculate Return for Symbols\n",
    "Prices are statistically relatively uninteresting as they tend to have a mean and standard-deviation with a trend over time. Returns on the other hand are often stationary which makes statistical tendencies like the mean and the standard deviation far more descriptive than with non stationary timeseries.\n",
    "This is why we care about returns far more than about actual closing prices."
   ]
  },
  {
   "cell_type": "code",
   "execution_count": 8,
   "metadata": {
    "ExecuteTime": {
     "end_time": "2020-10-22T22:46:53.407461Z",
     "start_time": "2020-10-22T22:46:53.346599Z"
    }
   },
   "outputs": [],
   "source": [
    "def get_return_df(adj_close_df,symbol_list):\n",
    "    manip_df = copy.deepcopy(adj_close_df)\n",
    "    return_df = manip_df.pct_change()\n",
    "    return_df.rename(columns={symbol+\"_adjusted_close\":symbol+\"_return\" for symbol in symbol_list},inplace=True)\n",
    "    return return_df\n"
   ]
  },
  {
   "cell_type": "markdown",
   "metadata": {
    "ExecuteTime": {
     "end_time": "2020-10-14T18:55:41.048954Z",
     "start_time": "2020-10-14T18:55:41.038979Z"
    }
   },
   "source": [
    "### Helping with Diversification:\n",
    "- get_diversification_candidates(corr_df, epsilon)\n",
    "If we trade a portfolio of stocks to be diversified we want stocks with 0 return correlation.\n",
    "The above method provides a dataframe in which every stock is, in an \"epsilon interval\" around 0.\n",
    "\n",
    "- get_neg_corr(corr_df)\n",
    "If we want to hedge a position we will want negative price correlation in our stocks.\n",
    "This method returns us a dataframe in which only stocks with negative price correlation are present.\n",
    "\n"
   ]
  },
  {
   "cell_type": "code",
   "execution_count": 9,
   "metadata": {
    "ExecuteTime": {
     "end_time": "2020-10-22T22:46:53.530326Z",
     "start_time": "2020-10-22T22:46:53.410427Z"
    }
   },
   "outputs": [],
   "source": [
    "return_df = get_return_df(price_df,symbol_list)\n",
    "corr_df = return_df.corr()"
   ]
  },
  {
   "cell_type": "code",
   "execution_count": 10,
   "metadata": {
    "ExecuteTime": {
     "end_time": "2020-10-22T22:46:53.689014Z",
     "start_time": "2020-10-22T22:46:53.532282Z"
    }
   },
   "outputs": [],
   "source": [
    "def get_diversification_candidates(corr_df,epsilon):\n",
    "    div_df = corr_df.mask(np.logical_not((corr_df < epsilon) & (corr_df > -epsilon))).dropna(axis = 0,how=\"all\").dropna(axis = 1, how=\"all\")\n",
    "    return div_df\n",
    "\n",
    "def get_neg_corr(corr_df):\n",
    "    div_df = corr_df.mask(np.logical_not(corr_df < 0)).dropna(axis = 0,how=\"all\").dropna(axis = 1, how=\"all\")\n",
    "    return div_df\n"
   ]
  },
  {
   "cell_type": "markdown",
   "metadata": {},
   "source": [
    "### Plotting Capabilities"
   ]
  },
  {
   "cell_type": "code",
   "execution_count": 11,
   "metadata": {
    "ExecuteTime": {
     "end_time": "2020-10-22T22:46:53.846603Z",
     "start_time": "2020-10-22T22:46:53.704989Z"
    }
   },
   "outputs": [],
   "source": [
    "def plot_heatmap(corr_df):\n",
    "    sns.heatmap(corr_df,cmap='viridis',vmin=-1,vmax=1)"
   ]
  },
  {
   "cell_type": "code",
   "execution_count": 12,
   "metadata": {
    "ExecuteTime": {
     "end_time": "2020-10-22T22:46:53.989913Z",
     "start_time": "2020-10-22T22:46:53.854544Z"
    }
   },
   "outputs": [],
   "source": [
    "def plot_return_distributions(symbols):\n",
    "    sym_ret = [symbol+\"_return\" for symbol in symbols]\n",
    "    plot_df = get_return_df(price_df,symbols)\n",
    "    plot_df[sym_ret].plot.kde()\n",
    "    \n",
    "    "
   ]
  },
  {
   "cell_type": "code",
   "execution_count": 13,
   "metadata": {
    "ExecuteTime": {
     "end_time": "2020-10-22T22:46:54.101563Z",
     "start_time": "2020-10-22T22:46:54.011891Z"
    }
   },
   "outputs": [],
   "source": [
    " def candlestick_chart(symbol):\n",
    "        ohlc_df = get_ohlc_data(price_dict,symbol)\n",
    "        mpf.plot(ohlc_df, type= \"candle\", volume=True)"
   ]
  },
  {
   "cell_type": "code",
   "execution_count": 14,
   "metadata": {
    "ExecuteTime": {
     "end_time": "2020-10-22T22:46:54.195463Z",
     "start_time": "2020-10-22T22:46:54.150692Z"
    }
   },
   "outputs": [],
   "source": [
    "#price_dict = load_adj_price_dict()\n",
    "#return_df = calculate_return_df(construct_adj_close_df(price_dict),symbol_list)\n",
    "#plot_heatmap(return_df.corr())\n"
   ]
  },
  {
   "cell_type": "markdown",
   "metadata": {},
   "source": [
    "### Future references:\n",
    "\n",
    "- Look into Chapter 8 of Python for Finance\n",
    "- Look into Chapter 5 of Mastering Pandas for Finance\n",
    "- Mastering Python for Finance seems a lil over my head for now\n",
    "- Python for Finance (O'Riley) Chapter 15 + seem very interesting\n"
   ]
  },
  {
   "cell_type": "code",
   "execution_count": null,
   "metadata": {},
   "outputs": [],
   "source": []
  },
  {
   "cell_type": "code",
   "execution_count": null,
   "metadata": {},
   "outputs": [],
   "source": []
  },
  {
   "cell_type": "code",
   "execution_count": null,
   "metadata": {},
   "outputs": [],
   "source": []
  }
 ],
 "metadata": {
  "kernelspec": {
   "display_name": "Python 3",
   "language": "python",
   "name": "python3"
  },
  "language_info": {
   "codemirror_mode": {
    "name": "ipython",
    "version": 3
   },
   "file_extension": ".py",
   "mimetype": "text/x-python",
   "name": "python",
   "nbconvert_exporter": "python",
   "pygments_lexer": "ipython3",
   "version": "3.6.5"
  }
 },
 "nbformat": 4,
 "nbformat_minor": 2
}
