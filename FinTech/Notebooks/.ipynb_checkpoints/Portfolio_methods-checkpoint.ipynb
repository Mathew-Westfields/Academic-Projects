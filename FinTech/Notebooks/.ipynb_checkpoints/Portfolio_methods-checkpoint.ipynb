{
 "cells": [
  {
   "cell_type": "code",
   "execution_count": 1,
   "metadata": {
    "ExecuteTime": {
     "end_time": "2020-10-22T15:44:33.267399Z",
     "start_time": "2020-10-22T15:44:32.822591Z"
    }
   },
   "outputs": [],
   "source": [
    "import pickle\n",
    "import datetime as dt\n",
    "import pandas as pd\n",
    "import math\n",
    "import numpy as np\n",
    "import copy\n",
    "import random"
   ]
  },
  {
   "cell_type": "code",
   "execution_count": 2,
   "metadata": {
    "ExecuteTime": {
     "end_time": "2020-10-22T15:44:33.283355Z",
     "start_time": "2020-10-22T15:44:33.270390Z"
    }
   },
   "outputs": [],
   "source": [
    "def load_adj_price_dict():\n",
    "    adj_price_dict = pickle.load( open( \"adj_price_dict.p\", \"rb\" ) )\n",
    "   \n",
    "    return adj_price_dict"
   ]
  },
  {
   "cell_type": "markdown",
   "metadata": {},
   "source": [
    "# Defining the Portfolio Object:"
   ]
  },
  {
   "cell_type": "code",
   "execution_count": 3,
   "metadata": {
    "ExecuteTime": {
     "end_time": "2020-10-22T15:44:33.456890Z",
     "start_time": "2020-10-22T15:44:33.440934Z"
    }
   },
   "outputs": [],
   "source": [
    "class Portfolio(object):\n",
    "    def __init__(self,symbols,weights,capital,init_time):\n",
    "        self.symbols = symbols\n",
    "        self.weights = weights\n",
    "        self.capital = capital\n",
    "        self.mapping_dict = {self.symbols[i]:self.weights[i] for i in range(len(symbols))}\n",
    "        self.init_time = init_time\n",
    "        self.init_positions = self.compute_position_size(init_time)\n",
    "        \n",
    "\n",
    "    def compute_position_size(self,t): #uses the capital allocation + a floor function to calculate the amount of stocks in each position\n",
    "        positions = {}\n",
    "        for symbol in self.symbols:\n",
    "            sym_price = price_df[symbol+\"_adjusted_close\"].loc[t]\n",
    "            weight = self.mapping_dict[symbol]\n",
    "            sym_size = math.floor(self.capital*weight/sym_price)\n",
    "            positions.update({symbol:sym_size})\n",
    "        return positions\n",
    "    \n",
    "    def price_dict(self,t):\n",
    "        prices = {symbol:price_df[symbol+\"_adjusted_close\"].loc[t] for symbol in self.symbols}\n",
    "        return prices\n",
    "    \n",
    "    def position_value(self,t,positions): # computes total price of portfolio \n",
    "        prices = self.price_dict(t)\n",
    "        price = 0\n",
    "        for symbol in self.symbols:\n",
    "            sym_pos = positions[symbol]\n",
    "            sym_price = prices[symbol]\n",
    "            price = price + sym_pos*sym_price\n",
    "        return price\n",
    "    \n",
    "    def value(self,t):\n",
    "        positions = self.init_positions\n",
    "        price = self.position_value(t,positions)\n",
    "        return price\n",
    "\n",
    "    def compute_timeframe_performance(self,t_0,t_1):\n",
    "        positions = self.compute_position_size(t_0)\n",
    "        price_0 = self.position_value(t_0,positions)\n",
    "        price_1 = self.position_value(t_1,positions)\n",
    "        delta = price_1 - price_0\n",
    "        return delta, delta/price_0\n",
    "    \n",
    "    def performance(self,t):\n",
    "        return self.compute_timeframe_performance(self.init_time,t)\n",
    "            "
   ]
  },
  {
   "cell_type": "code",
   "execution_count": 4,
   "metadata": {
    "ExecuteTime": {
     "end_time": "2020-10-22T15:44:33.658689Z",
     "start_time": "2020-10-22T15:44:33.647690Z"
    }
   },
   "outputs": [],
   "source": [
    "def construct_adj_close_df(adj_price_dict):\n",
    "    adj_close_df = pd.DataFrame()\n",
    "    for key in adj_price_dict.keys():\n",
    "        adj_price_dict[key].rename(columns={\"5. adjusted close\":key+\"_adjusted_close\"},inplace=True)\n",
    "        adj_close_df = pd.concat([adj_close_df, adj_price_dict[key][key+\"_adjusted_close\"]], axis=1)\n",
    "    \n",
    "    adj_close_df = adj_close_df.apply(pd.to_numeric)\n",
    "    return adj_close_df\n"
   ]
  },
  {
   "cell_type": "code",
   "execution_count": 5,
   "metadata": {
    "ExecuteTime": {
     "end_time": "2020-10-22T15:44:33.879916Z",
     "start_time": "2020-10-22T15:44:33.864930Z"
    }
   },
   "outputs": [],
   "source": [
    "price_dict = load_adj_price_dict()\n"
   ]
  },
  {
   "cell_type": "code",
   "execution_count": 6,
   "metadata": {
    "ExecuteTime": {
     "end_time": "2020-10-22T15:44:34.084076Z",
     "start_time": "2020-10-22T15:44:34.079088Z"
    }
   },
   "outputs": [],
   "source": [
    "symbol_list = list(price_dict.keys())"
   ]
  },
  {
   "cell_type": "code",
   "execution_count": 16,
   "metadata": {
    "ExecuteTime": {
     "end_time": "2020-10-22T15:46:59.347049Z",
     "start_time": "2020-10-22T15:46:59.309663Z"
    }
   },
   "outputs": [],
   "source": [
    "price_df = construct_adj_close_df(price_dict)"
   ]
  },
  {
   "cell_type": "code",
   "execution_count": null,
   "metadata": {
    "ExecuteTime": {
     "end_time": "2020-10-22T15:47:05.792352Z",
     "start_time": "2020-10-22T15:47:05.767422Z"
    }
   },
   "outputs": [],
   "source": []
  },
  {
   "cell_type": "code",
   "execution_count": 19,
   "metadata": {
    "ExecuteTime": {
     "end_time": "2020-10-22T15:47:22.395884Z",
     "start_time": "2020-10-22T15:47:22.380951Z"
    }
   },
   "outputs": [],
   "source": [
    "t_0 = price_df.index[0]\n",
    "p = Portfolio((\"AAPL\",\"XOM\"),(0.4,0.6),10000,t_0)"
   ]
  },
  {
   "cell_type": "code",
   "execution_count": null,
   "metadata": {
    "ExecuteTime": {
     "end_time": "2020-10-13T22:04:32.782184Z",
     "start_time": "2020-10-13T22:04:32.762213Z"
    }
   },
   "outputs": [],
   "source": []
  },
  {
   "cell_type": "markdown",
   "metadata": {
    "ExecuteTime": {
     "end_time": "2020-10-13T22:00:06.107450Z",
     "start_time": "2020-10-13T22:00:06.098477Z"
    }
   },
   "source": [
    "# Tracking Portfolio performance:"
   ]
  },
  {
   "cell_type": "code",
   "execution_count": 20,
   "metadata": {
    "ExecuteTime": {
     "end_time": "2020-10-22T15:47:23.316550Z",
     "start_time": "2020-10-22T15:47:23.299596Z"
    }
   },
   "outputs": [],
   "source": [
    "def get_portfolio_df(p,prices):\n",
    "    symbols = p.symbols\n",
    "    weights = p.init_positions\n",
    "    #^--- this needs to change if we wanna adjust portfolio perfomance over time\n",
    "    P_df = pd.DataFrame()\n",
    "    P_df[\"Date\"] = prices.index\n",
    "    P_df.set_index([\"Date\"], inplace = True)\n",
    "    P_df[\"Portfolio_Price\"] = np.zeros(P_df.shape[0])\n",
    "    for symbol in symbols:\n",
    "        P_df[\"Weight_\"+symbol] = weights[symbol]\n",
    "        P_df[symbol] = prices[symbol+\"_adjusted_close\"]\n",
    "        P_df[\"Return_\"+symbol] = P_df[symbol].pct_change()\n",
    "        P_df[\"Total_Return_\"+symbol] = (P_df[\"Return_\"+symbol] + np.ones(P_df.shape[0])).cumprod()\n",
    "        P_df[symbol+\"_Position_size\"] = P_df[\"Weight_\"+symbol]*P_df[symbol]\n",
    "        P_df[symbol+\"_Position_gain\"] = P_df[\"Return_\"+symbol]*P_df[\"Weight_\"+symbol]*P_df[symbol]\n",
    "        \n",
    "        P_df[\"Portfolio_Price\"] = P_df[\"Portfolio_Price\"] + P_df[symbol +\"_Position_size\"]\n",
    "\n",
    "    \n",
    "    \n",
    "    P_df[\"Portfolio_Return\"] = P_df[\"Portfolio_Price\"].pct_change()\n",
    "    P_df[\"Portfolio_Total_Return\"] = (P_df[\"Portfolio_Return\"] + np.ones(P_df.shape[0])).cumprod()\n",
    "    \n",
    "    return P_df\n",
    "       "
   ]
  },
  {
   "cell_type": "code",
   "execution_count": 21,
   "metadata": {
    "ExecuteTime": {
     "end_time": "2020-10-22T15:47:23.518903Z",
     "start_time": "2020-10-22T15:47:23.461959Z"
    }
   },
   "outputs": [],
   "source": [
    "p_df = get_portfolio_df(p,price_df)"
   ]
  },
  {
   "cell_type": "code",
   "execution_count": 22,
   "metadata": {
    "ExecuteTime": {
     "end_time": "2020-10-22T15:47:23.643287Z",
     "start_time": "2020-10-22T15:47:23.625048Z"
    }
   },
   "outputs": [],
   "source": [
    "def get_drawdown_periods(P_df):\n",
    "    dt_index = P_df.loc[(p_df.Portfolio_Price - p_df.Portfolio_Price.iloc[-1]) < 0].index\n",
    "    drawdowns = []\n",
    "    counter = 0\n",
    "    for i in range(1,len(dt_index)):\n",
    "        if(dt_index[i] - dt_index[i-1] == pd.Timedelta(\"1 days 00:00:00\")):\n",
    "            counter += 1\n",
    "        else:\n",
    "            if(counter != 0):\n",
    "                drawdowns.append(counter)\n",
    "                counter = 0\n",
    "            else:\n",
    "                counter = 0\n",
    "    return drawdowns"
   ]
  },
  {
   "cell_type": "code",
   "execution_count": null,
   "metadata": {
    "ExecuteTime": {
     "end_time": "2020-10-14T18:38:46.542569Z",
     "start_time": "2020-10-14T18:38:46.527608Z"
    },
    "scrolled": true
   },
   "outputs": [],
   "source": []
  },
  {
   "cell_type": "code",
   "execution_count": 23,
   "metadata": {
    "ExecuteTime": {
     "end_time": "2020-10-22T15:47:24.251393Z",
     "start_time": "2020-10-22T15:47:24.227457Z"
    }
   },
   "outputs": [],
   "source": [
    "def summary(P_df):\n",
    "    start_investment = P_df[\"Portfolio_Price\"].iloc[0]\n",
    "    end_position_size = P_df[\"Portfolio_Price\"].iloc[-1]\n",
    "    \n",
    "    total_return = P_df[\"Portfolio_Total_Return\"].iloc[-1] - 1\n",
    "    std_return = P_df[\"Portfolio_Return\"].std()\n",
    "    mean_return = P_df[\"Portfolio_Return\"].mean()\n",
    "    worst_total_return = P_df[\"Portfolio_Total_Return\"].min()\n",
    "    drawdown_ = lambda i :  max([0,(P_df[\"Portfolio_Return\"] - P_df[\"Portfolio_Return\"].iloc[i]).max()])\n",
    "\n",
    "    drawdown = drawdown_(-1)\n",
    "    argmax = p_df[\"Portfolio_Total_Return\"].reset_index()[\"Portfolio_Total_Return\"].idxmax()\n",
    "    max_diff = max([P_df[\"Portfolio_Total_Return\"].max() - P_df[\"Portfolio_Total_Return\"].iloc[index]\n",
    "                    for index in range(argmax,P_df.shape[0])])\n",
    "    max_drawdown = max([0] +[drawdown_(i) for i in range(argmax,P_df.shape[0])])\n",
    "    \n",
    "    drawdown_periods = get_drawdown_periods(P_df)\n",
    "    longest_drawdown_period = max(drawdown_periods)\n",
    "    second_longest_drawdown_period = max([x for x in drawdown_periods if x != longest_drawdown_period])\n",
    "    num_o_longest_drawdown = len([x for x in drawdown_periods if x == longest_drawdown_period])\n",
    "    num_o_sec_longest_drawdown = len([x for x in drawdown_periods if x == second_longest_drawdown_period])\n",
    "    \n",
    "    summary_dict = {\"start_investment\":start_investment,\n",
    "                    \"end_pos_size\":end_position_size,\n",
    "                    \"total_return\":total_return,\n",
    "                    \"std_return\":std_return,\n",
    "                    \"mean_return\":mean_return,\n",
    "                    \"drawdown\":drawdown,\n",
    "                     \"max_drawdown\":max_drawdown,\n",
    "                    \"longest_drawdown_period\":longest_drawdown_period,\n",
    "                    \"second_longest_drawdown_period\":second_longest_drawdown_period,\n",
    "                    \"num_o_longest_drawdown\":num_o_longest_drawdown,\n",
    "                    \"num_o_sec_longest_drawdown\":num_o_sec_longest_drawdown,\n",
    "                    \"risk_return_ratio\":total_return/max_drawdown,\n",
    "                   \"signal_to_noise\":mean_return/std_return\n",
    "                   }\n",
    "    \n",
    "    return summary_dict"
   ]
  },
  {
   "cell_type": "code",
   "execution_count": 24,
   "metadata": {
    "ExecuteTime": {
     "end_time": "2020-10-22T15:47:24.642233Z",
     "start_time": "2020-10-22T15:47:24.599257Z"
    }
   },
   "outputs": [
    {
     "data": {
      "text/plain": [
       "{'start_investment': 9938.5094,\n",
       " 'end_pos_size': 10004.27,\n",
       " 'total_return': 0.00661674677291102,\n",
       " 'std_return': 0.020408119888738804,\n",
       " 'mean_return': 0.0002737614102947065,\n",
       " 'drawdown': 0.07064555781386173,\n",
       " 'max_drawdown': 0.10759840308104007,\n",
       " 'longest_drawdown_period': 2,\n",
       " 'second_longest_drawdown_period': 1,\n",
       " 'num_o_longest_drawdown': 1,\n",
       " 'num_o_sec_longest_drawdown': 2,\n",
       " 'risk_return_ratio': 0.061494841776856796,\n",
       " 'signal_to_noise': 0.01341433761596863}"
      ]
     },
     "execution_count": 24,
     "metadata": {},
     "output_type": "execute_result"
    }
   ],
   "source": [
    "def visualize_porfolio_performance(p_df):\n",
    "    axs = p_df[[\"Portfolio_Price\",\"Portfolio_Return\"]].plot(figsize=(15, 5), subplots=True)"
   ]
  },
  {
   "cell_type": "code",
   "execution_count": null,
   "metadata": {},
   "outputs": [],
   "source": []
  },
  {
   "cell_type": "markdown",
   "metadata": {},
   "source": [
    "# Querying possible Portfolio Performances:"
   ]
  },
  {
   "cell_type": "code",
   "execution_count": 25,
   "metadata": {
    "ExecuteTime": {
     "end_time": "2020-10-22T15:47:27.066405Z",
     "start_time": "2020-10-22T15:47:27.049453Z"
    }
   },
   "outputs": [],
   "source": [
    "def weight_gen_helper(v,index,end): #helps generate capital allocations for stocks\n",
    "    if v.sum() == 10:\n",
    "        return v\n",
    "    else:\n",
    "        if len(index) == 1:\n",
    "            v[index[0]] = end\n",
    "            return v\n",
    "        else:\n",
    "            i = random.sample(range(end+1),1) \n",
    "            v[index[0]] = i[0]\n",
    "            index.remove(index[0]) \n",
    "            return weight_gen_helper(v,index,end-i[0])\n",
    "\n",
    "def rand_weight_generator(num_of_stocks): #generates a list of capital allocations for stocks\n",
    "    v = np.zeros(num_of_stocks)\n",
    "    index = list(range(len(v)))\n",
    "    end = 10\n",
    "    return weight_gen_helper(v,index,end)\n",
    "        \n",
    "def sample_weights(num_of_stocks,N): #samples N times for different weights then reduces it to the unique weights\n",
    "    data = []\n",
    "    for i in range(N):\n",
    "        v = np.zeros(num_of_stocks)\n",
    "        index = list(range(len(v)))\n",
    "        end = 10\n",
    "        out = tuple(weight_gen_helper(v,index,end)/10)\n",
    "        data.append(out)\n",
    "    data = list(set(data))\n",
    "    return data    "
   ]
  },
  {
   "cell_type": "code",
   "execution_count": 26,
   "metadata": {
    "ExecuteTime": {
     "end_time": "2020-10-22T15:47:27.445840Z",
     "start_time": "2020-10-22T15:47:27.437860Z"
    }
   },
   "outputs": [],
   "source": [
    "\n",
    "def pickle_query_df(symbol_list,price_df): #generates a dataframe of possible portfolio performances\n",
    "    weights = sample_weights(len(symbol_list),100000) # N = 100.000 !! TAKES A REALLY LONG TIME TO CALCULATE\n",
    "    sec_data = []\n",
    "    col_vals = []\n",
    "    for weight in weights:\n",
    "        p = Portfolio(symbol_list,weight,100000,t_0) # Capital = 100.000$\n",
    "        \n",
    "        df = get_portfolio_df(p,price_df)\n",
    "        s = summary(df)\n",
    "        \n",
    "        sec_data.append(tuple(s.values()))\n",
    "        if len(col_vals) == 0:\n",
    "            col_vals = list(s.keys())\n",
    "        else:\n",
    "            pass \n",
    "    data = [weights[i]+sec_data[i] for i in range(len(weights))]\n",
    "    query_df = pd.DataFrame(data ,columns = [str(symbol)+\"_Weight\" for symbol in symbol_list] + col_vals)\n",
    "    pickle.dump(query_df, open( \"query_df.p\", \"wb\" )) # Pickle the query df\n",
    "    "
   ]
  },
  {
   "cell_type": "code",
   "execution_count": 27,
   "metadata": {
    "ExecuteTime": {
     "end_time": "2020-10-22T15:59:23.227496Z",
     "start_time": "2020-10-22T15:47:27.725869Z"
    }
   },
   "outputs": [],
   "source": [
    "#pickle_query_df(symbol_list,price_df)"
   ]
  },
  {
   "cell_type": "code",
   "execution_count": 28,
   "metadata": {
    "ExecuteTime": {
     "end_time": "2020-10-22T15:59:23.244455Z",
     "start_time": "2020-10-22T15:59:23.230492Z"
    }
   },
   "outputs": [],
   "source": [
    "def load_query_df(): # loads query dataframe\n",
    "    query_df = pickle.load( open( \"query_df.p\", \"rb\" ) )\n",
    "    return query_df"
   ]
  },
  {
   "cell_type": "code",
   "execution_count": 29,
   "metadata": {
    "ExecuteTime": {
     "end_time": "2020-10-22T15:59:23.449579Z",
     "start_time": "2020-10-22T15:59:23.252437Z"
    }
   },
   "outputs": [],
   "source": [
    "q_df = load_query_df()"
   ]
  },
  {
   "cell_type": "code",
   "execution_count": 30,
   "metadata": {
    "ExecuteTime": {
     "end_time": "2020-10-22T15:59:23.700629Z",
     "start_time": "2020-10-22T15:59:23.461546Z"
    }
   },
   "outputs": [],
   "source": [
    "def get_potential_portfolios(risk_quantile,reward_quantile):\n",
    "    query = q_df.loc[\n",
    "        (q_df.std_return < q_df.std_return.quantile(risk_quantile)) & \n",
    "        (q_df.drawdown < q_df.drawdown.quantile(risk_quantile)) &\n",
    "        (q_df.mean_return > q_df.mean_return.quantile(reward_quantile)) & \n",
    "        (q_df.signal_to_noise > q_df.signal_to_noise.quantile(reward_quantile)) & \n",
    "        (q_df.risk_return_ratio > q_df.risk_return_ratio.quantile(reward_quantile))]\n",
    "    sym = [symbol + \"_Weight\" for symbol in symbol_list]\n",
    "    return query[sym + ['std_return', 'mean_return', 'drawdown','max_drawdown', 'risk_return_ratio', 'signal_to_noise']]\n",
    "        "
   ]
  },
  {
   "cell_type": "code",
   "execution_count": 31,
   "metadata": {
    "ExecuteTime": {
     "end_time": "2020-10-22T15:59:23.794491Z",
     "start_time": "2020-10-22T15:59:23.704624Z"
    }
   },
   "outputs": [],
   "source": [
    "def get_low_risk_portfolios(risk_quantile,worst_case_quantile):\n",
    "    query = q_df.loc[(q_df.std_return < q_df.std_return.quantile(risk_quantile)) & \n",
    "                      (q_df.drawdown  < q_df.drawdown.quantile(risk_quantile)) &\n",
    "                      (q_df.max_drawdown  < q_df.max_drawdown.quantile(worst_case_quantile))]\n",
    "    \n",
    "    sym = [symbol + \"_Weight\" for symbol in symbol_list]\n",
    "    return query[sym + ['std_return', 'mean_return', 'drawdown','max_drawdown', 'risk_return_ratio', 'signal_to_noise']]"
   ]
  },
  {
   "cell_type": "code",
   "execution_count": 34,
   "metadata": {
    "ExecuteTime": {
     "end_time": "2020-10-22T22:40:15.963298Z",
     "start_time": "2020-10-22T22:40:15.952326Z"
    }
   },
   "outputs": [],
   "source": [
    "def copy_portfolio(pot_df,i):\n",
    "    weights = tuple(pot_df.iloc[i].iloc[j] for j in range(len(symbol_list)))\n",
    "    symbols = tuple(symbol_list)\n",
    "    p = Portfolio(symbols,weights,100000,price_df.index[0])\n",
    "    return get_portfolio_df(p,price_df)"
   ]
  },
  {
   "cell_type": "code",
   "execution_count": null,
   "metadata": {},
   "outputs": [],
   "source": []
  },
  {
   "cell_type": "code",
   "execution_count": null,
   "metadata": {},
   "outputs": [],
   "source": []
  },
  {
   "cell_type": "code",
   "execution_count": null,
   "metadata": {},
   "outputs": [],
   "source": []
  }
 ],
 "metadata": {
  "kernelspec": {
   "display_name": "Python 3",
   "language": "python",
   "name": "python3"
  },
  "language_info": {
   "codemirror_mode": {
    "name": "ipython",
    "version": 3
   },
   "file_extension": ".py",
   "mimetype": "text/x-python",
   "name": "python",
   "nbconvert_exporter": "python",
   "pygments_lexer": "ipython3",
   "version": "3.6.5"
  }
 },
 "nbformat": 4,
 "nbformat_minor": 2
}
