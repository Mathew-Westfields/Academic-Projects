{
 "cells": [
  {
   "cell_type": "markdown",
   "metadata": {
    "ExecuteTime": {
     "end_time": "2020-10-08T14:49:01.569243Z",
     "start_time": "2020-10-08T14:49:01.555255Z"
    }
   },
   "source": [
    "# Dependencies"
   ]
  },
  {
   "cell_type": "code",
   "execution_count": 14,
   "metadata": {
    "ExecuteTime": {
     "end_time": "2020-10-08T14:48:54.172896Z",
     "start_time": "2020-10-08T14:48:51.712256Z"
    }
   },
   "outputs": [
    {
     "name": "stdout",
     "output_type": "stream",
     "text": [
      "Requirement already satisfied: numpy in c:\\users\\appweeve\\anaconda3\\lib\\site-packages (1.18.1)\n"
     ]
    }
   ],
   "source": [
    "!pip install numpy"
   ]
  },
  {
   "cell_type": "code",
   "execution_count": 9,
   "metadata": {
    "ExecuteTime": {
     "end_time": "2020-10-08T14:47:29.038018Z",
     "start_time": "2020-10-08T14:47:13.572418Z"
    }
   },
   "outputs": [
    {
     "name": "stdout",
     "output_type": "stream",
     "text": [
      "Requirement already satisfied: pandas in c:\\users\\appweeve\\anaconda3\\lib\\site-packages (0.22.0)\n",
      "Requirement already satisfied: python-dateutil>=2 in c:\\users\\appweeve\\anaconda3\\lib\\site-packages (from pandas) (2.7.3)\n",
      "Requirement already satisfied: numpy>=1.9.0 in c:\\users\\appweeve\\anaconda3\\lib\\site-packages (from pandas) (1.18.1)\n",
      "Requirement already satisfied: pytz>=2011k in c:\\users\\appweeve\\anaconda3\\lib\\site-packages (from pandas) (2018.4)\n",
      "Requirement already satisfied: six>=1.5 in c:\\users\\appweeve\\anaconda3\\lib\\site-packages (from python-dateutil>=2->pandas) (1.11.0)\n"
     ]
    }
   ],
   "source": [
    "!pip install pandas"
   ]
  },
  {
   "cell_type": "code",
   "execution_count": 12,
   "metadata": {
    "ExecuteTime": {
     "end_time": "2020-10-08T14:48:13.901024Z",
     "start_time": "2020-10-08T14:48:11.179608Z"
    }
   },
   "outputs": [
    {
     "name": "stdout",
     "output_type": "stream",
     "text": [
      "Requirement already satisfied: seaborn in c:\\users\\appweeve\\anaconda3\\lib\\site-packages (0.8.1)\n",
      "Requirement already satisfied: numpy in c:\\users\\appweeve\\anaconda3\\lib\\site-packages (from seaborn) (1.18.1)\n",
      "Requirement already satisfied: scipy in c:\\users\\appweeve\\anaconda3\\lib\\site-packages (from seaborn) (1.4.1)\n",
      "Requirement already satisfied: matplotlib in c:\\users\\appweeve\\anaconda3\\lib\\site-packages (from seaborn) (2.2.2)\n",
      "Requirement already satisfied: pandas in c:\\users\\appweeve\\anaconda3\\lib\\site-packages (from seaborn) (0.22.0)\n",
      "Requirement already satisfied: cycler>=0.10 in c:\\users\\appweeve\\anaconda3\\lib\\site-packages (from matplotlib->seaborn) (0.10.0)\n",
      "Requirement already satisfied: pyparsing!=2.0.4,!=2.1.2,!=2.1.6,>=2.0.1 in c:\\users\\appweeve\\anaconda3\\lib\\site-packages (from matplotlib->seaborn) (2.2.0)\n",
      "Requirement already satisfied: python-dateutil>=2.1 in c:\\users\\appweeve\\anaconda3\\lib\\site-packages (from matplotlib->seaborn) (2.7.3)\n",
      "Requirement already satisfied: pytz in c:\\users\\appweeve\\anaconda3\\lib\\site-packages (from matplotlib->seaborn) (2018.4)\n",
      "Requirement already satisfied: six>=1.10 in c:\\users\\appweeve\\anaconda3\\lib\\site-packages (from matplotlib->seaborn) (1.11.0)\n",
      "Requirement already satisfied: kiwisolver>=1.0.1 in c:\\users\\appweeve\\anaconda3\\lib\\site-packages (from matplotlib->seaborn) (1.0.1)\n",
      "Requirement already satisfied: setuptools in c:\\users\\appweeve\\anaconda3\\lib\\site-packages (from kiwisolver>=1.0.1->matplotlib->seaborn) (39.1.0)\n"
     ]
    }
   ],
   "source": [
    "!pip install seaborn"
   ]
  },
  {
   "cell_type": "code",
   "execution_count": 11,
   "metadata": {
    "ExecuteTime": {
     "end_time": "2020-10-08T14:47:49.674847Z",
     "start_time": "2020-10-08T14:47:47.013269Z"
    }
   },
   "outputs": [
    {
     "name": "stdout",
     "output_type": "stream",
     "text": [
      "Requirement already satisfied: mplfinance in c:\\users\\appweeve\\anaconda3\\lib\\site-packages (0.12.3a3)\n",
      "Requirement already satisfied: matplotlib in c:\\users\\appweeve\\anaconda3\\lib\\site-packages (from mplfinance) (2.2.2)\n",
      "Requirement already satisfied: pandas in c:\\users\\appweeve\\anaconda3\\lib\\site-packages (from mplfinance) (0.22.0)\n",
      "Requirement already satisfied: numpy>=1.7.1 in c:\\users\\appweeve\\anaconda3\\lib\\site-packages (from matplotlib->mplfinance) (1.18.1)\n",
      "Requirement already satisfied: cycler>=0.10 in c:\\users\\appweeve\\anaconda3\\lib\\site-packages (from matplotlib->mplfinance) (0.10.0)\n",
      "Requirement already satisfied: pyparsing!=2.0.4,!=2.1.2,!=2.1.6,>=2.0.1 in c:\\users\\appweeve\\anaconda3\\lib\\site-packages (from matplotlib->mplfinance) (2.2.0)\n",
      "Requirement already satisfied: python-dateutil>=2.1 in c:\\users\\appweeve\\anaconda3\\lib\\site-packages (from matplotlib->mplfinance) (2.7.3)\n",
      "Requirement already satisfied: pytz in c:\\users\\appweeve\\anaconda3\\lib\\site-packages (from matplotlib->mplfinance) (2018.4)\n",
      "Requirement already satisfied: six>=1.10 in c:\\users\\appweeve\\anaconda3\\lib\\site-packages (from matplotlib->mplfinance) (1.11.0)\n",
      "Requirement already satisfied: kiwisolver>=1.0.1 in c:\\users\\appweeve\\anaconda3\\lib\\site-packages (from matplotlib->mplfinance) (1.0.1)\n",
      "Requirement already satisfied: setuptools in c:\\users\\appweeve\\anaconda3\\lib\\site-packages (from kiwisolver>=1.0.1->matplotlib->mplfinance) (39.1.0)\n"
     ]
    }
   ],
   "source": [
    "!pip install mplfinance"
   ]
  },
  {
   "cell_type": "code",
   "execution_count": null,
   "metadata": {},
   "outputs": [],
   "source": []
  },
  {
   "cell_type": "code",
   "execution_count": null,
   "metadata": {},
   "outputs": [],
   "source": []
  },
  {
   "cell_type": "code",
   "execution_count": null,
   "metadata": {},
   "outputs": [],
   "source": []
  },
  {
   "cell_type": "markdown",
   "metadata": {},
   "source": [
    "# Initialize Main"
   ]
  },
  {
   "cell_type": "code",
   "execution_count": 2,
   "metadata": {
    "ExecuteTime": {
     "end_time": "2020-10-22T15:00:04.397649Z",
     "start_time": "2020-10-22T15:00:04.381657Z"
    }
   },
   "outputs": [
    {
     "name": "stdout",
     "output_type": "stream",
     "text": [
      "C:\\Users\\appweeve\\Documents\\Code\\Quantopian\\Project\\Notebooks\n"
     ]
    }
   ],
   "source": [
    "cd Notebooks/"
   ]
  },
  {
   "cell_type": "code",
   "execution_count": 3,
   "metadata": {
    "ExecuteTime": {
     "end_time": "2020-10-22T15:02:41.303018Z",
     "start_time": "2020-10-22T15:00:20.904612Z"
    }
   },
   "outputs": [],
   "source": [
    "%run Data_Pipeline.ipynb"
   ]
  },
  {
   "cell_type": "code",
   "execution_count": null,
   "metadata": {},
   "outputs": [],
   "source": []
  }
 ],
 "metadata": {
  "kernelspec": {
   "display_name": "Python 3",
   "language": "python",
   "name": "python3"
  },
  "language_info": {
   "codemirror_mode": {
    "name": "ipython",
    "version": 3
   },
   "file_extension": ".py",
   "mimetype": "text/x-python",
   "name": "python",
   "nbconvert_exporter": "python",
   "pygments_lexer": "ipython3",
   "version": "3.6.5"
  }
 },
 "nbformat": 4,
 "nbformat_minor": 2
}
